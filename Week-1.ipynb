{
 "cells": [
  {
   "cell_type": "markdown",
   "id": "1b6ddb3d",
   "metadata": {},
   "source": [
    "# Lists:\n",
    "1. Implement a function that returns the kth largest element in a list without sorting the list.\n",
    "2. Write a program that finds all pairs of elements in a list that add up to a specified sum.\n",
    "3. Create a function that rotates a list by a given number of positions to the left.\n",
    "4. Implement a program that finds the longest subsequence of consecutive numbers in\n",
    "a list.\n",
    "5. Write a program that rearranges positive and negative numbers in a list while maintaining their relative order.\n",
    "6. Create a function that implements selection sort to sort a list in ascending order.\n",
    "7. Implement a program that finds the mode (most frequent element) of a list.\n",
    "8. Write a program that removes the smallest and largest elements from a list.\n",
    "9. Create a function that generates all possible permutations of elements in a list.\n",
    "10. Implement a program that returns the index of the first occurrence of a sublist within a larger list.\n",
    "\n",
    "# Tuples:\n",
    "1. Write a program that finds the intersection of two tuples (common elements).\n",
    "2. Implement a function that checks if two tuples are disjoint (have no common elements).\n",
    "3. Create a program that calculates the Euclidean distance between two points represented as tuples.\n",
    "4. Write a program that converts a list of tuples into a dictionary.\n",
    "5. Implement a function that computes the dot product of two tuples (considering them as vectors).\n",
    "6. Create a program that finds the Cartesian product of two sets of elements represented as tuples.\n",
    "7. Write a program that calculates the Hamming distance between two strings of equal length (represented as tuples).\n",
    "8. Implement a function that calculates the magnitude of a tuple (considering it as a vector).\n",
    "9. Create a program that generates random coordinates (tuples) within a specified range.\n",
    "10. Write a program that finds the common elements in multiple tuples.\n",
    "\n",
    "# Dictionary:\n",
    "1. Implement a program that finds the key with the minimum value in a dictionary.\n",
    "2. Write a program that merges two dictionaries, summing the values of common keys.\n",
    "3. Create a function that finds the top N items with the highest values in a dictionary.\n",
    "4. Implement a program that converts a dictionary to a list of tuples containing key-value pairs.\n",
    "5. Write a program that calculates the Jaccard similarity between two dictionaries (sets of keys).\n",
    "6. Create a function that performs a deep merge of two dictionaries (including nested dictionaries).\n",
    "7. Implement a program that creates a dictionary histogram from a given list of elements.\n",
    "8. Write a program that checks if two dictionaries have the same keys and values.\n",
    "9. Create a program that generates a dictionary of random data (e.g., user profiles) based on certain criteria.\n",
    "10. Implement a function that removes all keys with even-length values from a dictionary.\n",
    "\n",
    "# Functions:\n",
    "1. Write a program that generates a random password using a function with customizable length and character options.\n",
    "2. Write a program that calculates the factorial of a given number using a recursive function.\n",
    "3. Implement a function that converts a decimal number to a specified base (e.g., binary, hexadecimal).\n",
    "4. Create a function that takes a list of numbers and returns the list sorted in ascending order.\n",
    "5. Write a program that calculates the area of a circle using a function with appropriate parameters.\n",
    "6. Write a program that implements the Tower of Hanoi problem using a recursive function.\n",
    "7. Create a function that takes a string as input and returns the string reversed.\n",
    "8. Write a program that converts Celsius to Fahrenheit using a function.\n",
    "9. Implement a function that finds the greatest common divisor (GCD) of two numbers.\n",
    "10. Create a function that generates a Fibonacci sequence up to a specified number of terms.\n",
    "\n",
    "# NumPy:\n",
    "1. Create a NumPy array with numbers from 1 to 10 and print its shape and dimensions.\n",
    "2. Write a program that adds two NumPy arrays element-wise.\n",
    "3. Implement a function that calculates the mean, median, and standard deviation of a NumPy array.\n",
    "4. Create a program that multiplies each element of a NumPy array by a specified factor.\n",
    "5. Write a program to find the index of the maximum value in a NumPy array.\n",
    "6. Implement a function that returns the dot product of two NumPy arrays.\n",
    "7. Create a program that reshapes a 1D NumPy array into a 2D array.\n",
    "8. Write a program that finds the unique elements and their counts in a NumPy array.\n",
    "9. Implement a function that returns a specified row or column from a 2D NumPy array.\n",
    "10. Create a program that performs matrix multiplication using NumPy arrays.\n",
    "\n",
    "# Pandas:\n",
    "1. Load a CSV file into a Pandas DataFrame and display the first few rows.\n",
    "2. Write a program that selects a specific column from a Pandas DataFrame.\n",
    "3. Implement a function that calculates the mean and median of a column in a DataFrame.\n",
    "4. Create a program that filters rows in a DataFrame based on a certain condition.\n",
    "5. Write a program that groups a DataFrame by a specific column and calculates the sum of another column.\n",
    "6. Implement a function that sorts a DataFrame based on a specified column.\n",
    "7. Create a program that merges two DataFrames based on a common column.\n",
    "8. Write a program that fills missing values in a DataFrame with a specified value.\n",
    "9. Implement a function that calculates the correlation between two columns in a DataFrame.\n",
    "10. Create a program that visualizes data from a DataFrame using a scatter plot.\n",
    "\n",
    "# Matplotlib (Scatter, Bar, Pie):\n",
    "1. Write a program to create a scatter plot of random data points.\n",
    "2. Create a bar chart that shows the sales of different products over a month.\n",
    "3. Implement a program that creates a pie chart representing the distribution of grades in a class.\n",
    "4. Write a program that combines bar and line plots to visualize sales and profits over time.\n",
    "5. Create a program that compares the population of different countries using a bar chart.\n",
    "6. Implement a program that creates a scatter plot with a regression line for a given dataset.\n",
    "7. Write a program that generates a pie chart to display the percentage distribution of expenses in a budget.\n",
    "8. Create a bar chart that shows the number of students who prefer different subjects.\n",
    "9. Implement a program that creates a scatter plot matrix for multiple variables.\n",
    "10. Write a program that uses subplots to display multiple bar charts side by side."
   ]
  },
  {
   "cell_type": "markdown",
   "id": "5a3eb0a4",
   "metadata": {},
   "source": [
    "# \n",
    "# Lists\n",
    "### 1. Implement a function that returns the kth largest element in a list without sorting the list."
   ]
  },
  {
   "cell_type": "code",
   "execution_count": 52,
   "id": "98bbe1a3",
   "metadata": {},
   "outputs": [
    {
     "name": "stdout",
     "output_type": "stream",
     "text": [
      "Enter the number of Elements: 10\n",
      "Enter k: 4\n",
      "Enter element: 8\n",
      "Enter element: 2\n",
      "Enter element: 4\n",
      "Enter element: 6\n",
      "Enter element: 7\n",
      "Enter element: 5\n",
      "Enter element: 9\n",
      "Enter element: 3\n",
      "Enter element: 8\n",
      "Enter element: 41\n",
      "the 4 largest element in the list is 8\n"
     ]
    }
   ],
   "source": [
    "n = int(input(\"Enter the number of Elements: \"))\n",
    "k = int(input(\"Enter k: \"))\n",
    "list1 = []\n",
    "for i in range(0,n):\n",
    "    list1.append(int(input(\"Enter element: \")))\n",
    "    \n",
    "def largest(list1):\n",
    "    large = 0\n",
    "    for i in range(0,len(list1)):\n",
    "        if list1[i] >= large:\n",
    "            large = list1[i]\n",
    "    return large\n",
    "            \n",
    "def klarge(k,list1):\n",
    "    if k == 1:\n",
    "        return largest(list1)\n",
    "    else:\n",
    "        list1.remove(largest(list1))\n",
    "        return klarge(k-1,list1)\n",
    "    \n",
    "print(\"the\",k,\"largest element in the list is\", klarge(k,list1))"
   ]
  },
  {
   "cell_type": "markdown",
   "id": "b6196ab3",
   "metadata": {},
   "source": [
    "### 2. Write a program that finds all pairs of elements in a list that add up to a specified sum."
   ]
  },
  {
   "cell_type": "code",
   "execution_count": 32,
   "id": "f2731b84",
   "metadata": {},
   "outputs": [
    {
     "name": "stdout",
     "output_type": "stream",
     "text": [
      "Enter the number of Elements: 5\n",
      "Enter element: 5\n",
      "Enter element: 9\n",
      "Enter element: 7\n",
      "Enter element: 3\n",
      "Enter element: 2\n",
      "Enter the Sum to be Found Out: 9\n",
      "Value Pairs that add up to sum( 9 ):\n",
      "[9]\n",
      "[7, 2]\n"
     ]
    }
   ],
   "source": [
    "n = int(input(\"Enter the number of Elements: \"))\n",
    "list1 = []\n",
    "for i in range(0, n):\n",
    "    list1.append(int(input(\"Enter element: \")))\n",
    "\n",
    "sum1 = int(input(\"Enter the Sum to be Found Out: \"))\n",
    "sumpairs = []\n",
    "\n",
    "for i in range(0, n):\n",
    "    curr_sum = list1[i]\n",
    "    curr_list = [list1[i]]\n",
    "    if curr_sum == sum1:\n",
    "        sumpairs.append(curr_list[:])\n",
    "\n",
    "    for j in range(i + 1, n):\n",
    "        curr_sum += list1[j]\n",
    "        curr_list.append(list1[j])\n",
    "\n",
    "        if curr_sum == sum1:\n",
    "            sumpairs.append(curr_list[:])\n",
    "\n",
    "        if curr_sum >= sum1:\n",
    "            curr_sum -= list1[j]\n",
    "            curr_list.pop()\n",
    "\n",
    "    curr_list.clear()\n",
    "    curr_sum = 0\n",
    "\n",
    "print(\"Value Pairs that add up to sum(\",sum1,\"):\")\n",
    "for i in sumpairs:\n",
    "    print(i)"
   ]
  },
  {
   "cell_type": "markdown",
   "id": "4957ae43",
   "metadata": {},
   "source": [
    "### 3. Create a function that rotates a list by a given number of positions to the left."
   ]
  },
  {
   "cell_type": "code",
   "execution_count": 3,
   "id": "978767ef",
   "metadata": {},
   "outputs": [
    {
     "name": "stdout",
     "output_type": "stream",
     "text": [
      "Enter the number of Elements: 5\n",
      "Enter element: 1\n",
      "Enter element: 2\n",
      "Enter element: 3\n",
      "Enter element: 4\n",
      "Enter element: 5\n",
      "Enter the numbers of times to be roated2\n",
      "List after rotated 2 times to left:\n",
      " [3, 4, 5, 1, 2]\n"
     ]
    }
   ],
   "source": [
    "n = int(input(\"Enter the number of Elements: \"))\n",
    "list1 = []\n",
    "for i in range(0, n):\n",
    "    list1.append(int(input(\"Enter element: \")))\n",
    "    \n",
    "num = int(input('Enter the numbers of times to be roated'))\n",
    "\n",
    "def rotateleft(list1,num):\n",
    "    for i in range(0,num):\n",
    "        temp = list1[0]\n",
    "        for j in range(0,len(list1)):\n",
    "            if j == len(list1)-1:\n",
    "                list1[j] = temp\n",
    "            else:\n",
    "                list1[j] = list1[j+1]\n",
    "    return list1\n",
    "\n",
    "print(\"List after rotated\",num,\"times to left:\\n\",rotateleft(list1,num))"
   ]
  },
  {
   "cell_type": "markdown",
   "id": "d81f1400",
   "metadata": {},
   "source": [
    "### 4. Implement a program that finds the longest subsequence of consecutive numbers in a list."
   ]
  },
  {
   "cell_type": "code",
   "execution_count": 4,
   "id": "fb60421d",
   "metadata": {},
   "outputs": [
    {
     "name": "stdout",
     "output_type": "stream",
     "text": [
      "Enter the number of Elements: 10\n",
      "Enter element: 8\n",
      "Enter element: 5\n",
      "Enter element: 4\n",
      "Enter element: 69\n",
      "Enter element: 7\n",
      "Enter element: 5\n",
      "Enter element: 1\n",
      "Enter element: 3\n",
      "Enter element: 2\n",
      "Enter element: 4\n",
      "List:  [8, 5, 4, 69, 7, 5, 1, 3, 2, 4]\n",
      "Soreted:  [1, 2, 3, 4, 4, 5, 5, 7, 8, 69]\n",
      "longest subsequence of consecutive numbers:\n",
      " [1, 2, 3, 4]\n"
     ]
    }
   ],
   "source": [
    "n = int(input(\"Enter the number of Elements: \"))\n",
    "list1 = []\n",
    "for i in range(0, n):\n",
    "    list1.append(int(input(\"Enter element: \")))\n",
    "    \n",
    "def longsubseq(list1):\n",
    "    print(\"List: \",list1)\n",
    "    list1.sort()\n",
    "    print(\"Soreted: \",list1)\n",
    "\n",
    "    long_subseq = curr_subseq = [list1[0]]\n",
    "\n",
    "    for i in range(1, len(list1)):\n",
    "        if list1[i] == list1[i - 1] + 1:\n",
    "            curr_subseq.append(list1[i])\n",
    "        else:\n",
    "            curr_subseq = [list1[i]]\n",
    "\n",
    "        if len(curr_subseq) > len(long_subseq):\n",
    "            long_subseq = curr_subseq[:]\n",
    "\n",
    "    return long_subseq\n",
    "\n",
    "print(\"longest subsequence of consecutive numbers:\\n\", longsubseq(list1))"
   ]
  },
  {
   "cell_type": "markdown",
   "id": "98b84143",
   "metadata": {},
   "source": [
    "### 5. Write a program that rearranges positive and negative numbers in a list while maintaining their relative order."
   ]
  },
  {
   "cell_type": "code",
   "execution_count": 5,
   "id": "f1b86adb",
   "metadata": {},
   "outputs": [
    {
     "name": "stdout",
     "output_type": "stream",
     "text": [
      "Enter the number of Elements: 5\n",
      "Enter element: -7\n",
      "Enter element: 6\n",
      "Enter element: 8\n",
      "Enter element: -2\n",
      "Enter element: 1\n",
      "([6, 8, 1], [-7, -2])\n"
     ]
    }
   ],
   "source": [
    "n = int(input(\"Enter the number of Elements: \"))\n",
    "list1 = []\n",
    "for i in range(0, n):\n",
    "    list1.append(int(input(\"Enter element: \")))\n",
    "    \n",
    "def rearrange_posNneg(list1):\n",
    "    pos = []\n",
    "    neg = []\n",
    "    \n",
    "    for elem in list1:\n",
    "        if elem >= 0:\n",
    "            pos.append(elem)\n",
    "        else:\n",
    "            neg.append(elem)\n",
    "    return pos,neg\n",
    "\n",
    "print(rearrange_posNneg(list1))"
   ]
  },
  {
   "cell_type": "markdown",
   "id": "b5c6a2dc",
   "metadata": {},
   "source": [
    "### 6. Create a function that implements selection sort to sort a list in ascending order."
   ]
  },
  {
   "cell_type": "code",
   "execution_count": 6,
   "id": "17651e75",
   "metadata": {},
   "outputs": [
    {
     "name": "stdout",
     "output_type": "stream",
     "text": [
      "Enter the number of Elements: 5\n",
      "Enter element: 42\n",
      "Enter element: 65\n",
      "Enter element: 12\n",
      "Enter element: 34\n",
      "Enter element: 86\n",
      "Sorted list: [12, 34, 42, 65, 86]\n"
     ]
    }
   ],
   "source": [
    "n = int(input(\"Enter the number of Elements: \"))\n",
    "list1 = []\n",
    "for i in range(0, n):\n",
    "    list1.append(int(input(\"Enter element: \")))\n",
    "\n",
    "def selection_sort(lst):\n",
    "    n = len(lst)\n",
    "    for i in range(0, n-1):\n",
    "        index = i\n",
    "        for j in range(i+1, n):\n",
    "            if lst[j] < lst[index]:\n",
    "                index = j\n",
    "        if index != i:\n",
    "            temp = lst[i]\n",
    "            lst[i] = lst[index]\n",
    "            lst[index] = temp\n",
    "    return lst\n",
    "\n",
    "print(\"Sorted list:\", selection_sort(list1))"
   ]
  },
  {
   "cell_type": "markdown",
   "id": "43887b81",
   "metadata": {},
   "source": [
    "### 7. Implement a program that finds the mode (most frequent element) of a list."
   ]
  },
  {
   "cell_type": "code",
   "execution_count": 10,
   "id": "06a944b9",
   "metadata": {},
   "outputs": [
    {
     "name": "stdout",
     "output_type": "stream",
     "text": [
      "Enter the number of Elements: 5\n",
      "Enter element: 2\n",
      "Enter element: 1\n",
      "Enter element: 4\n",
      "Enter element: 2\n",
      "Enter element: 6\n",
      "Mode: 2\n"
     ]
    }
   ],
   "source": [
    "from collections import Counter\n",
    "\n",
    "n = int(input(\"Enter the number of Elements: \"))\n",
    "list1 = []\n",
    "for i in range(0, n):\n",
    "    list1.append(int(input(\"Enter element: \")))\n",
    "\n",
    "def find_mode(lst):\n",
    "    if not lst:\n",
    "        return None\n",
    "    count = Counter(lst)\n",
    "    mode = count.most_common(1)[0][0]\n",
    "    return mode\n",
    "\n",
    "print(\"Mode:\", find_mode(list1))"
   ]
  },
  {
   "cell_type": "markdown",
   "id": "da40e384",
   "metadata": {},
   "source": [
    "### 8. Write a program that removes the smallest and largest elements from a list."
   ]
  },
  {
   "cell_type": "code",
   "execution_count": 26,
   "id": "fd0ddb04",
   "metadata": {},
   "outputs": [
    {
     "name": "stdout",
     "output_type": "stream",
     "text": [
      "Enter the number of Elements: 5\n",
      "Enter element: 4\n",
      "Enter element: 1\n",
      "Enter element: 2\n",
      "Enter element: 7\n",
      "Enter element: 6\n",
      "list before Removing Largest and Smallest:  [4, 1, 2, 7, 6]\n",
      "List after Removing Largest and Smallest:  [4, 2, 7]\n"
     ]
    }
   ],
   "source": [
    "n = int(input(\"Enter the number of Elements: \"))\n",
    "list1 = []\n",
    "for i in range(0, n):\n",
    "    list1.append(int(input(\"Enter element: \")))\n",
    "    \n",
    "print('list before Removing Largest and Smallest: ',list1)\n",
    "lst = [elem for elem in list1]\n",
    "lst.sort()\n",
    "list1.remove(lst[0])\n",
    "list1.remove(lst[len(list1)-1])\n",
    "print('List after Removing Largest and Smallest: ',list1)"
   ]
  },
  {
   "cell_type": "markdown",
   "id": "4399a524",
   "metadata": {},
   "source": [
    "### 9. Create a function that generates all possible permutations of elements in a list."
   ]
  },
  {
   "cell_type": "code",
   "execution_count": 27,
   "id": "6ea6210d",
   "metadata": {},
   "outputs": [
    {
     "name": "stdout",
     "output_type": "stream",
     "text": [
      "[(1, 2, 3), (1, 3, 2), (2, 1, 3), (2, 3, 1), (3, 1, 2), (3, 2, 1)]\n"
     ]
    }
   ],
   "source": [
    "from itertools import permutations\n",
    "\n",
    "def generate_permutations(lst):\n",
    "    return list(permutations(lst))\n",
    "\n",
    "print(generate_permutations([1, 2, 3]))"
   ]
  },
  {
   "cell_type": "markdown",
   "id": "a09d8ad5",
   "metadata": {},
   "source": [
    "### 10. Implement a program that returns the index of the first occurrence of a sublist within a larger list."
   ]
  },
  {
   "cell_type": "code",
   "execution_count": 33,
   "id": "14b73444",
   "metadata": {},
   "outputs": [
    {
     "name": "stdout",
     "output_type": "stream",
     "text": [
      "Sublist found at index: 3\n"
     ]
    }
   ],
   "source": [
    "def sublist_index(main_list, sublist):\n",
    "    for i in range(len(main_list) - len(sublist) + 1):\n",
    "        if main_list[i:i + len(sublist)] == sublist:\n",
    "            print(\"Sublist found at index:\",i)\n",
    "            return\n",
    "    print(\"Sublist not found.\")\n",
    "\n",
    "main = [1, 2, 3, 4, 5, 6, 7, 8, 9]\n",
    "sub = [4, 5, 6]\n",
    "sublist_index(main, sub)    "
   ]
  },
  {
   "cell_type": "markdown",
   "id": "7c5a5364",
   "metadata": {},
   "source": [
    "# \n",
    "# Tuples\n",
    "### 1. Write a program that finds the intersection of two tuples (common elements)."
   ]
  },
  {
   "cell_type": "code",
   "execution_count": 155,
   "id": "ce8ef82f",
   "metadata": {},
   "outputs": [
    {
     "name": "stdout",
     "output_type": "stream",
     "text": [
      "Intersection of tuples: (2, 3)\n"
     ]
    }
   ],
   "source": [
    "import math\n",
    "import random\n",
    "\n",
    "tup1 = (1, 2, 3)\n",
    "tup2 = (2, 3, 4)\n",
    "print(\"Intersection of tuples:\", tuple(set(tup1) & set(tup2)))"
   ]
  },
  {
   "cell_type": "markdown",
   "id": "3a50f403",
   "metadata": {},
   "source": [
    "### 2. Implement a function that checks if two tuples are disjoint (have no common elements)."
   ]
  },
  {
   "cell_type": "code",
   "execution_count": 159,
   "id": "26c2b416",
   "metadata": {},
   "outputs": [
    {
     "name": "stdout",
     "output_type": "stream",
     "text": [
      "Tuples disjoint: True\n"
     ]
    }
   ],
   "source": [
    "tup1 = (1, 2, 3)\n",
    "tup2 = (4, 5, 6)\n",
    "print(\"Tuples disjoint:\", len(set(tup1) & set(tup2)) == 0)"
   ]
  },
  {
   "cell_type": "markdown",
   "id": "a9444519",
   "metadata": {},
   "source": [
    "### 3. Create a program that calculates the Euclidean distance between two points represented as tuples."
   ]
  },
  {
   "cell_type": "code",
   "execution_count": 162,
   "id": "ac4f7730",
   "metadata": {},
   "outputs": [
    {
     "name": "stdout",
     "output_type": "stream",
     "text": [
      "Euclidean Distance = 5.0\n"
     ]
    }
   ],
   "source": [
    "point1 = (1, 2)\n",
    "point2 = (4, 6)\n",
    "print('Euclidean Distance =',math.sqrt(sum((a - b)**2 for a, b in zip(point1, point2))))"
   ]
  },
  {
   "cell_type": "markdown",
   "id": "a7722bba",
   "metadata": {},
   "source": [
    "### 4. Write a program that converts a list of tuples into a dictionary."
   ]
  },
  {
   "cell_type": "code",
   "execution_count": 163,
   "id": "9c62e7af",
   "metadata": {},
   "outputs": [
    {
     "name": "stdout",
     "output_type": "stream",
     "text": [
      "Dictionary from list of tuples: {'a': 1, 'b': 2, 'c': 3}\n"
     ]
    }
   ],
   "source": [
    "tup = [('a', 1), ('b', 2), ('c', 3)]\n",
    "print(\"Dictionary from list of tuples:\", dict(tup))"
   ]
  },
  {
   "cell_type": "markdown",
   "id": "4b2e4a6a",
   "metadata": {},
   "source": [
    "### 5. Implement a function that computes the dot product of two tuples (considering them as vectors)."
   ]
  },
  {
   "cell_type": "code",
   "execution_count": 165,
   "id": "3d4915e5",
   "metadata": {},
   "outputs": [
    {
     "name": "stdout",
     "output_type": "stream",
     "text": [
      "Dot Product: 32\n"
     ]
    }
   ],
   "source": [
    "tup1 = (1, 2, 3)\n",
    "tup2 = (4, 5, 6)\n",
    "print('Dot Product:',sum(a * b for a, b in zip(tup1, tup2)))"
   ]
  },
  {
   "cell_type": "markdown",
   "id": "a7e58794",
   "metadata": {},
   "source": [
    "### 6. Create a program that finds the Cartesian product of two sets of elements represented as tuples."
   ]
  },
  {
   "cell_type": "code",
   "execution_count": 169,
   "id": "8a6c6d50",
   "metadata": {},
   "outputs": [
    {
     "name": "stdout",
     "output_type": "stream",
     "text": [
      "Cartesian Product: [('a', 1), ('a', 2), ('a', 3), ('b', 1), ('b', 2), ('b', 3), ('c', 1), ('c', 2), ('c', 3)]\n"
     ]
    }
   ],
   "source": [
    "set1 = ('a', 'b', 'c')\n",
    "set2 = (1, 2, 3)\n",
    "product = []\n",
    "\n",
    "for elem in set1:\n",
    "    for ele in set2:\n",
    "        product.append((elem, ele))\n",
    "\n",
    "print(\"Cartesian Product:\",product)"
   ]
  },
  {
   "cell_type": "markdown",
   "id": "fde08263",
   "metadata": {},
   "source": [
    "### 7. Write a program that calculates the Hamming distance between two strings of equal length (represented as tuples)."
   ]
  },
  {
   "cell_type": "code",
   "execution_count": 170,
   "id": "21485946",
   "metadata": {},
   "outputs": [
    {
     "name": "stdout",
     "output_type": "stream",
     "text": [
      "Hamming distance: 2\n"
     ]
    }
   ],
   "source": [
    "string1 = ('0', '1', '0', '1', '1')\n",
    "string2 = ('1', '1', '0', '0', '1')\n",
    "hamming_distance = sum(a != b for a, b in zip(string1, string2))\n",
    "print(\"Hamming distance:\", hamming_distance)"
   ]
  },
  {
   "cell_type": "markdown",
   "id": "5d586ae6",
   "metadata": {},
   "source": [
    "### 8. Implement a function that calculates the magnitude of a tuple (considering it as a vector)."
   ]
  },
  {
   "cell_type": "code",
   "execution_count": 172,
   "id": "8726f06f",
   "metadata": {},
   "outputs": [
    {
     "name": "stdout",
     "output_type": "stream",
     "text": [
      "Magnitude of tuple: 5.385164807134504\n"
     ]
    }
   ],
   "source": [
    "def tuple_magnitude(tup):\n",
    "    return math.sqrt(sum(a**2 for a in tup))\n",
    "\n",
    "tuple6 = (2, 5)\n",
    "print(\"Magnitude of tuple:\", tuple_magnitude(tuple6))"
   ]
  },
  {
   "cell_type": "markdown",
   "id": "5807a414",
   "metadata": {},
   "source": [
    "### 9. Create a program that generates random coordinates (tuples) within a specified range."
   ]
  },
  {
   "cell_type": "code",
   "execution_count": 178,
   "id": "b1d4d3c5",
   "metadata": {},
   "outputs": [
    {
     "name": "stdout",
     "output_type": "stream",
     "text": [
      "Random coordinates: [(2.6574058168346824, 2.703920387690939), (0.7627435580680225, 1.7901612189179432), (4.655463801078067, 4.339841474088822), (1.7653534329939147, 3.1435251615774193), (3.2874650121126443, 1.923931947044399)]\n"
     ]
    }
   ],
   "source": [
    "def generate_random_coordinates(n, start, end):\n",
    "    coordinates = [(random.uniform(start, end), random.uniform(start, end))\n",
    "                   for i in range(num_points)]\n",
    "    return coordinates\n",
    "\n",
    "n, start, end = 3, 0, 5\n",
    "print(\"Random coordinates:\", generate_random_coordinates(n, start, end))"
   ]
  },
  {
   "cell_type": "markdown",
   "id": "31de192f",
   "metadata": {},
   "source": [
    "### 10. Write a program that finds the common elements in multiple tuples."
   ]
  },
  {
   "cell_type": "code",
   "execution_count": 179,
   "id": "c94ffca5",
   "metadata": {},
   "outputs": [
    {
     "name": "stdout",
     "output_type": "stream",
     "text": [
      "Common elements: {'c'}\n"
     ]
    }
   ],
   "source": [
    "tup1 = ('a', 'b', 'c')\n",
    "tup2 = ('b', 'c', 'd')\n",
    "tup3 = ('c', 'd', 'e')\n",
    "print(\"Common elements:\", set(tup1) & set(tup2) & set(tup3))"
   ]
  },
  {
   "cell_type": "markdown",
   "id": "c144c1c7",
   "metadata": {},
   "source": [
    "# \n",
    "# Dictionary\n",
    "### 1. Implement a program that finds the key with the minimum value in a dictionary."
   ]
  },
  {
   "cell_type": "code",
   "execution_count": 6,
   "id": "6e2cd0c3",
   "metadata": {},
   "outputs": [
    {
     "data": {
      "text/plain": [
       "{'n': 4}"
      ]
     },
     "execution_count": 6,
     "metadata": {},
     "output_type": "execute_result"
    }
   ],
   "source": [
    "def mindictval(dict1):\n",
    "    minv = 10\n",
    "    for elem in dict1:\n",
    "        if dict1[elem] <= minv:\n",
    "            minv = dict1[elem]\n",
    "            val = elem\n",
    "    return {val:minv}\n",
    "\n",
    "mindictval({'s':6,'n':4,'v':7,'r':5})"
   ]
  },
  {
   "cell_type": "markdown",
   "id": "62267e3f",
   "metadata": {},
   "source": [
    "### 2. Write a program that merges two dictionaries, summing the values of common keys."
   ]
  },
  {
   "cell_type": "code",
   "execution_count": 7,
   "id": "32c55a03",
   "metadata": {},
   "outputs": [
    {
     "data": {
      "text/plain": [
       "{'a': 3, 'v': 11, 'r': 7, 'n': 5, 's': 3}"
      ]
     },
     "execution_count": 7,
     "metadata": {},
     "output_type": "execute_result"
    }
   ],
   "source": [
    "def mergeDict(dict1,dict2):\n",
    "    for elem in dict2:\n",
    "        if elem not in dict1:\n",
    "            dict1[elem] = dict2[elem]\n",
    "        else:\n",
    "            dict1[elem] += dict2[elem]\n",
    "    return dict1\n",
    "        \n",
    "mergeDict({'a':3,'v':4,'r':5,'n':1},{'s':3,'n':4,'v':7,'r':2})"
   ]
  },
  {
   "cell_type": "markdown",
   "id": "85bacf2c",
   "metadata": {},
   "source": [
    "### 3. Create a function that finds the top N items with the highest values in a dictionary."
   ]
  },
  {
   "cell_type": "code",
   "execution_count": 134,
   "id": "c82793bc",
   "metadata": {},
   "outputs": [
    {
     "name": "stdout",
     "output_type": "stream",
     "text": [
      "Enter Number Top to find: 3\n",
      "Top 3 items: {'E': 25, 'C': 20, 'B': 15}\n"
     ]
    }
   ],
   "source": [
    "def top_n_items(dict1, n):\n",
    "    sorted_items = sorted(dict1.items(), key=lambda item: item[1], reverse=True)\n",
    "    top_n = sorted_items[:n]\n",
    "    return dict(top_n)\n",
    "\n",
    "dict1 = {'A': 5, 'B': 15, 'C': 20, 'D': 10, 'E': 25}\n",
    "n = int(input('Enter Number Top to find: '))\n",
    "print(\"Top\", n, \"items:\", top_n_items(dict1, n))"
   ]
  },
  {
   "cell_type": "markdown",
   "id": "15346034",
   "metadata": {},
   "source": [
    "### 4. Implement a program that converts a dictionary to a list of tuples containing key-value pairs."
   ]
  },
  {
   "cell_type": "code",
   "execution_count": 138,
   "id": "a2bc1a93",
   "metadata": {},
   "outputs": [
    {
     "name": "stdout",
     "output_type": "stream",
     "text": [
      "Tuple: [('A', 10), ('B', 15), ('C', 5)]\n"
     ]
    }
   ],
   "source": [
    "dict1 = {'A': 10, 'B': 15, 'C': 5}\n",
    "print(\"Tuple:\", list(dict1.items()))"
   ]
  },
  {
   "cell_type": "markdown",
   "id": "841bd394",
   "metadata": {},
   "source": [
    "### 5. Write a program that calculates the Jaccard similarity between two dictionaries (sets of keys)."
   ]
  },
  {
   "cell_type": "code",
   "execution_count": 139,
   "id": "02c8f25f",
   "metadata": {},
   "outputs": [
    {
     "name": "stdout",
     "output_type": "stream",
     "text": [
      "Jaccard similarity: 0.5\n"
     ]
    }
   ],
   "source": [
    "def jaccard_similarity(dict1, dict2):\n",
    "    set1 = set(dict1.keys())\n",
    "    set2 = set(dict2.keys())\n",
    "    \n",
    "    intersection_size = len(set1 & set2)\n",
    "    union_size = len(set1 | set2)\n",
    "    \n",
    "    if union_size == 0:\n",
    "        return 0\n",
    "    \n",
    "    similarity = intersection_size / union_size\n",
    "    return similarity\n",
    "\n",
    "dict1 = {'A': 5, 'B': 10, 'C': 3}\n",
    "dict2 = {'B': 7, 'D': 2, 'C': 1}\n",
    "print(\"Jaccard similarity:\", jaccard_similarity(dict1, dict2))"
   ]
  },
  {
   "cell_type": "markdown",
   "id": "3f063ec0",
   "metadata": {},
   "source": [
    "### 6. Create a function that performs a deep merge of two dictionaries (including nested dictionaries)."
   ]
  },
  {
   "cell_type": "code",
   "execution_count": 142,
   "id": "51881a62",
   "metadata": {},
   "outputs": [
    {
     "name": "stdout",
     "output_type": "stream",
     "text": [
      "Merged dictionary: {'a': 1, 'b': {'x': 2, 'y': 4, 'z': 5}, 'c': 6}\n"
     ]
    }
   ],
   "source": [
    "def deep_merge(dict1, dict2):\n",
    "    merg = dict1.copy()\n",
    "    for key, value in dict2.items():\n",
    "        if isinstance(value, dict) and key in dict1 and isinstance(dict1[key], dict):\n",
    "            merg[key] = deep_merge(dict1[key], value)\n",
    "        else:\n",
    "            merg[key] = value\n",
    "    return merg\n",
    "\n",
    "dict1 = {'a': 1, 'b': {'x': 2, 'y': 3}}\n",
    "dict2 = {'b': {'y': 4, 'z': 5}, 'c': 6}\n",
    "print(\"Merged dictionary:\", deep_merge(dict1, dict2))"
   ]
  },
  {
   "cell_type": "markdown",
   "id": "8d5dc33c",
   "metadata": {},
   "source": [
    "### 7. Implement a program that creates a dictionary histogram from a given list of elements."
   ]
  },
  {
   "cell_type": "code",
   "execution_count": 144,
   "id": "a4459e45",
   "metadata": {},
   "outputs": [
    {
     "name": "stdout",
     "output_type": "stream",
     "text": [
      "Dictionary histogram: {2: 3, 4: 4, 6: 3, 3: 3, 1: 1}\n"
     ]
    }
   ],
   "source": [
    "lst = [2,4,6,3,6,3,4,2,4,3,4,6,1,2]\n",
    "histogram = {}\n",
    "    \n",
    "for elem in lst:\n",
    "    if elem in histogram:\n",
    "        histogram[elem] += 1\n",
    "    else:\n",
    "        histogram[elem] = 1\n",
    "        \n",
    "print(\"Dictionary histogram:\", histogram)"
   ]
  },
  {
   "cell_type": "markdown",
   "id": "32debdaa",
   "metadata": {},
   "source": [
    "### 8. Write a program that checks if two dictionaries have the same keys and values."
   ]
  },
  {
   "cell_type": "code",
   "execution_count": 8,
   "id": "4096e7d3",
   "metadata": {},
   "outputs": [
    {
     "name": "stdout",
     "output_type": "stream",
     "text": [
      "Same Keys/Values Exists\n"
     ]
    }
   ],
   "source": [
    "def checkDict(dict1,dict2):\n",
    "    for elem in dict2:\n",
    "        if elem not in dict1:\n",
    "            print('Same Keys/Values Exists')\n",
    "            break\n",
    "        else:\n",
    "            print('Same Keys/Values Does Not Exists')\n",
    "            break\n",
    "        \n",
    "# checkDict({'a':3,'v':4,'r':5,'n':1},{'s':3,'n':4,'v':7,'r':2})\n",
    "checkDict({'a':3,'v':4,'r':5,'n':1},{'s':3,'t':4,'y':7,'u':2})"
   ]
  },
  {
   "cell_type": "markdown",
   "id": "53deb077",
   "metadata": {},
   "source": [
    "### 9. Create a program that generates a dictionary of random data (e.g., user profiles) based on certain criteria."
   ]
  },
  {
   "cell_type": "code",
   "execution_count": 152,
   "id": "f5c23c8b",
   "metadata": {},
   "outputs": [
    {
     "name": "stdout",
     "output_type": "stream",
     "text": [
      "Profile 1: {'username': 'Nbgreypt', 'age': 22, 'email': 'NiOWCkpF@gmail.com', 'location': 'LEghTHcOYE', 'interests': ['sports']}\n",
      "Profile 2: {'username': 'grsPBwCi', 'age': 27, 'email': 'afXskptt@gmail.com', 'location': 'xlsxSQUwOi', 'interests': ['sports', 'travel']}\n",
      "Profile 3: {'username': 'fdxIwplH', 'age': 20, 'email': 'QPHsnmFL@gmail.com', 'location': 'UJJNErPSyp', 'interests': ['cooking', 'sports', 'music']}\n"
     ]
    }
   ],
   "source": [
    "import random\n",
    "import string\n",
    "\n",
    "def generate_random_string(length):\n",
    "    letters = string.ascii_letters\n",
    "    return ''.join(random.choice(letters) for i in range(length))\n",
    "\n",
    "def generate_random_profiles(num):\n",
    "    profiles = []\n",
    "    for i in range(num):\n",
    "        profile = {\n",
    "            'username': generate_random_string(8),\n",
    "            'age': random.randint(18, 60),\n",
    "            'email': generate_random_string(8) + '@gmail.com',\n",
    "            'location': generate_random_string(10),\n",
    "            'interests': random.sample(['sports', 'music', 'travel', 'cooking'], random.randint(1, 3))\n",
    "        }\n",
    "        profiles.append(profile)\n",
    "    return profiles\n",
    "\n",
    "for i, profile in enumerate(generate_random_profiles(3), start=1):\n",
    "    print(f\"Profile {i}:\", profile)"
   ]
  },
  {
   "cell_type": "markdown",
   "id": "60688792",
   "metadata": {},
   "source": [
    "### 10. Implement a function that removes all keys with even-length values from a dictionary."
   ]
  },
  {
   "cell_type": "code",
   "execution_count": 154,
   "id": "26929de4",
   "metadata": {},
   "outputs": [
    {
     "name": "stdout",
     "output_type": "stream",
     "text": [
      "{'apple': 'red', 'banana': 'yellow', 'kiwi': 'green', 'pear': 'brown'}\n",
      "{'apple': 'red', 'kiwi': 'green', 'pear': 'brown'}\n"
     ]
    }
   ],
   "source": [
    "dict1 = {'apple': 'red', 'banana': 'yellow', 'kiwi': 'green', 'pear': 'brown'}\n",
    "filtered_dict = {key: value for key, value in dict1.items() if len(str(value)) % 2 != 0}\n",
    "\n",
    "print(dict1)\n",
    "print(filtered_dict)"
   ]
  },
  {
   "cell_type": "markdown",
   "id": "173e57a8",
   "metadata": {},
   "source": [
    "# \n",
    "# Functions:\n",
    "### 1. Write a program that generates a random password using a function with customizable length and character options."
   ]
  },
  {
   "cell_type": "code",
   "execution_count": 124,
   "id": "19222efb",
   "metadata": {},
   "outputs": [
    {
     "name": "stdout",
     "output_type": "stream",
     "text": [
      "Enter password length: 10\n",
      "letters(y/n): y\n",
      "digits(y/n): y\n",
      "special characters(y/n): y\n",
      "Generated Password: MO&LOZ$#w_\n"
     ]
    }
   ],
   "source": [
    "import random, string\n",
    "\n",
    "def generate_password(l, letters, digits, chars):\n",
    "    password = ''\n",
    "    if letters == 'y':\n",
    "        password += string.ascii_letters\n",
    "    if digits == 'y':\n",
    "        password += string.digits\n",
    "    if chars == 'y':\n",
    "        password += string.punctuation\n",
    "    password = ''.join(random.choice(password) for i in range(0,l))\n",
    "    return password\n",
    "\n",
    "l = int(input(\"Enter password length: \"))\n",
    "letter = input(\"letters(y/n): \")\n",
    "digit = input(\"digits(y/n): \")\n",
    "char = input(\"special characters(y/n): \")\n",
    "\n",
    "password = generate_password(l, letter, digit, char)\n",
    "print(\"Generated Password:\", password)"
   ]
  },
  {
   "cell_type": "markdown",
   "id": "a397bad8",
   "metadata": {},
   "source": [
    "### 2. Write a program that calculates the factorial of a given number using a recursive function."
   ]
  },
  {
   "cell_type": "code",
   "execution_count": 9,
   "id": "c5e9562a",
   "metadata": {},
   "outputs": [
    {
     "name": "stdout",
     "output_type": "stream",
     "text": [
      "Factorial of 6 = 720\n"
     ]
    }
   ],
   "source": [
    "def factorial(n):\n",
    "    if n == 1:\n",
    "        return n\n",
    "    else:\n",
    "        return n * (factorial(n-1))\n",
    "    \n",
    "n = 6\n",
    "print('Factorial of',n,'=',factorial(n))"
   ]
  },
  {
   "cell_type": "markdown",
   "id": "f59d2ef5",
   "metadata": {},
   "source": [
    "### 3. Implement a function that converts a decimal number to a specified base (e.g., binary, hexadecimal)."
   ]
  },
  {
   "cell_type": "code",
   "execution_count": 127,
   "id": "53eb062c",
   "metadata": {},
   "outputs": [
    {
     "name": "stdout",
     "output_type": "stream",
     "text": [
      "Enter Number: 10\n",
      "Enter the base to convert(2/16/32): 2\n",
      "10 in base 2 is: 1010\n"
     ]
    }
   ],
   "source": [
    "def convert_decimal(number, base):\n",
    "    digits = \"0123456789abcdefghijklmnopqrstuvwxyz\"\n",
    "    if number == 0:\n",
    "        return '0'\n",
    "    result = ''\n",
    "    while number > 0:\n",
    "        remainder = number % base\n",
    "        result = digits[remainder] + result\n",
    "        number //= base\n",
    "    return result\n",
    "\n",
    "num = int(input(\"Enter Number: \"))\n",
    "base = int(input(\"Enter the base to convert(2/16/32): \"))\n",
    "print(num,'in base',base, 'is:',convert_decimal(num, base))"
   ]
  },
  {
   "cell_type": "markdown",
   "id": "7a645b4e",
   "metadata": {},
   "source": [
    "### 4. Create a function that takes a list of numbers and returns the list sorted in ascending order."
   ]
  },
  {
   "cell_type": "code",
   "execution_count": 10,
   "id": "6afbb94b",
   "metadata": {},
   "outputs": [
    {
     "name": "stdout",
     "output_type": "stream",
     "text": [
      "Enter the number of Elements: 5\n",
      "Enter element: 41\n",
      "Enter element: 60\n",
      "Enter element: 21\n",
      "Enter element: 57\n",
      "Enter element: 31\n",
      "[21, 31, 41, 57, 60]\n"
     ]
    }
   ],
   "source": [
    "n = int(input(\"Enter the number of Elements: \"))\n",
    "list1 = []\n",
    "for i in range(0, n):\n",
    "    list1.append(int(input(\"Enter element: \")))\n",
    "    \n",
    "def sortlst(lst):\n",
    "    l = len(lst)\n",
    "    for _ in lst:\n",
    "        for i in range(0,l):\n",
    "            if i == l-1:\n",
    "                break\n",
    "            elif lst[i] > lst[i+1]:\n",
    "                temp = lst[i]\n",
    "                lst[i] = lst[i+1]\n",
    "                lst[i+1] = temp\n",
    "    return lst\n",
    "    \n",
    "print(sortlst(list1))"
   ]
  },
  {
   "cell_type": "markdown",
   "id": "0dd9e0fb",
   "metadata": {},
   "source": [
    "### 5. Write a program that calculates the area of a circle using a function with appropriate parameters."
   ]
  },
  {
   "cell_type": "code",
   "execution_count": 11,
   "id": "b2e44cdf",
   "metadata": {},
   "outputs": [
    {
     "name": "stdout",
     "output_type": "stream",
     "text": [
      "Enter Radius of Circle: 4\n",
      "Area:  50.24\n"
     ]
    }
   ],
   "source": [
    "def circlearea(r):\n",
    "    area = 3.14 *r*r\n",
    "    return area\n",
    "\n",
    "rad = int(input(\"Enter Radius of Circle: \"))\n",
    "print('Area: ',circlearea(rad))"
   ]
  },
  {
   "cell_type": "markdown",
   "id": "a63f1746",
   "metadata": {},
   "source": [
    "### 6. Write a program that implements the Tower of Hanoi problem using a recursive function."
   ]
  },
  {
   "cell_type": "code",
   "execution_count": 128,
   "id": "3ba5e5eb",
   "metadata": {},
   "outputs": [
    {
     "name": "stdout",
     "output_type": "stream",
     "text": [
      "Enter the number of disks: 3\n",
      "Move disk 1 from A to C\n",
      "Move disk 2 from A to B\n",
      "Move disk 1 from C to B\n",
      "Move disk 3 from A to C\n",
      "Move disk 1 from B to A\n",
      "Move disk 2 from B to C\n",
      "Move disk 1 from A to C\n"
     ]
    }
   ],
   "source": [
    "def tower_of_hanoi(n, source, auxiliary, target):\n",
    "    if n > 0:\n",
    "        tower_of_hanoi(n - 1, source, target, auxiliary)\n",
    "        print('Move disk',n,'from',source,'to',target)\n",
    "        tower_of_hanoi(n - 1, auxiliary, source, target)\n",
    "\n",
    "num_disks = int(input(\"Enter the number of disks: \"))\n",
    "tower_of_hanoi(num_disks, 'A', 'B', 'C')"
   ]
  },
  {
   "cell_type": "markdown",
   "id": "879018db",
   "metadata": {},
   "source": [
    "### 7. Create a function that takes a string as input and returns the string reversed."
   ]
  },
  {
   "cell_type": "code",
   "execution_count": 12,
   "id": "83fd3dca",
   "metadata": {},
   "outputs": [
    {
     "name": "stdout",
     "output_type": "stream",
     "text": [
      "Enter string: ht5fj2\n",
      "2jf5th\n"
     ]
    }
   ],
   "source": [
    "def revstr(str1):\n",
    "    revstr =''\n",
    "    for i in range(len(str1)-1,-1,-1):\n",
    "        revstr += str1[i]\n",
    "    return revstr\n",
    "\n",
    "str1 = input('Enter string: ')\n",
    "print(revstr(str1))"
   ]
  },
  {
   "cell_type": "markdown",
   "id": "9caf5e36",
   "metadata": {},
   "source": [
    "### 8. Write a program that converts Celsius to Fahrenheit using a function."
   ]
  },
  {
   "cell_type": "code",
   "execution_count": 13,
   "id": "8921a696",
   "metadata": {},
   "outputs": [
    {
     "name": "stdout",
     "output_type": "stream",
     "text": [
      "Enter Celsius: 41\n",
      "41 Celsius = 105.8 Fahrenheit\n"
     ]
    }
   ],
   "source": [
    "cel = int(input('Enter Celsius: '))\n",
    "fah = (9*cel)/5 + 32\n",
    "\n",
    "print(cel,'Celsius =',fah,'Fahrenheit')"
   ]
  },
  {
   "cell_type": "markdown",
   "id": "e9a06142",
   "metadata": {},
   "source": [
    "### 9. Implement a function that finds the greatest common divisor (GCD) of two numbers."
   ]
  },
  {
   "cell_type": "code",
   "execution_count": 131,
   "id": "a7a3afe1",
   "metadata": {},
   "outputs": [
    {
     "name": "stdout",
     "output_type": "stream",
     "text": [
      "Enter the first number: 40\n",
      "Enter the second number: 15\n",
      "The GCD of 40 and 15 is: 5\n"
     ]
    }
   ],
   "source": [
    "def gcd(a, b):\n",
    "    while b:\n",
    "        temp = a\n",
    "        a = b\n",
    "        b = temp % b\n",
    "    return a\n",
    "\n",
    "num1 = int(input(\"Enter the first number: \"))\n",
    "num2 = int(input(\"Enter the second number: \"))\n",
    "print('The GCD of',num1,'and',num2,'is:', gcd(num1, num2))"
   ]
  },
  {
   "cell_type": "markdown",
   "id": "391a815e",
   "metadata": {},
   "source": [
    "### 10. Create a function that generates a Fibonacci sequence up to a specified number of terms."
   ]
  },
  {
   "cell_type": "code",
   "execution_count": 14,
   "id": "ddcafe3c",
   "metadata": {},
   "outputs": [
    {
     "name": "stdout",
     "output_type": "stream",
     "text": [
      "[0, 1, 1, 2, 3, 5, 8, 13, 21, 34, 55, 89, 144, 233, 377]\n"
     ]
    }
   ],
   "source": [
    "def fibbon(n):\n",
    "    fib = [0,1]\n",
    "    a = 0\n",
    "    b = 1\n",
    "    for i in range(2,n):\n",
    "        c = a+b\n",
    "        fib.append(c)\n",
    "        a = b\n",
    "        b = c\n",
    "    return fib\n",
    "\n",
    "n = 15\n",
    "print(fibbon(n))"
   ]
  },
  {
   "cell_type": "markdown",
   "id": "92e90ba1",
   "metadata": {},
   "source": [
    "# \n",
    "# NumPy:\n",
    "### 1. Create a NumPy array with numbers from 1 to 10 and print its shape and dimensions."
   ]
  },
  {
   "cell_type": "code",
   "execution_count": 15,
   "id": "374286a3",
   "metadata": {},
   "outputs": [
    {
     "name": "stdout",
     "output_type": "stream",
     "text": [
      "NumPy Array: [[ 1  2  3  4  5]\n",
      " [ 6  7  8  9 10]]\n",
      "Shape: (2, 5)\n",
      "Dimension: 2\n"
     ]
    }
   ],
   "source": [
    "import numpy as np\n",
    "nparr = np.array([[1,2,3,4,5],[6,7,8,9,10]])\n",
    "print(\"NumPy Array:\",nparr)\n",
    "print(\"Shape:\",nparr.shape)\n",
    "print(\"Dimension:\",nparr.ndim)"
   ]
  },
  {
   "cell_type": "markdown",
   "id": "1be415c3",
   "metadata": {},
   "source": [
    "### 2. Write a program that adds two NumPy arrays element-wise."
   ]
  },
  {
   "cell_type": "code",
   "execution_count": 16,
   "id": "bcd8c0cb",
   "metadata": {},
   "outputs": [
    {
     "name": "stdout",
     "output_type": "stream",
     "text": [
      "[1 2 3 4 5 6] + [ 6  7  8  9 10] = [ 7  9 11 13 15  6]\n"
     ]
    }
   ],
   "source": [
    "import numpy as np\n",
    "nparr1 = np.array([1,2,3,4,5,6])\n",
    "nparr2 = np.array([6,7,8,9,10])\n",
    "\n",
    "if len(nparr1)>len(nparr2):\n",
    "    npsum = np.array([0 for i in range(0,len(nparr1))])\n",
    "else:\n",
    "    npsum = np.array([0 for i in range(0,len(nparr2))])\n",
    "\n",
    "for i in range(0,len(npsum)):\n",
    "    if len(nparr1)==i:\n",
    "        npsum[i] = nparr2[i]\n",
    "    elif len(nparr2)==i:\n",
    "        npsum[i] = nparr1[i]\n",
    "    else:\n",
    "        npsum[i] = nparr1[i]+nparr2[i]\n",
    "        \n",
    "print(nparr1,\"+\",nparr2,\"=\",npsum)"
   ]
  },
  {
   "cell_type": "markdown",
   "id": "180e5448",
   "metadata": {},
   "source": [
    "### 3. Implement a function that calculates the mean, median, and standard deviation of a NumPy array."
   ]
  },
  {
   "cell_type": "code",
   "execution_count": 17,
   "id": "6b91f8fd",
   "metadata": {},
   "outputs": [
    {
     "name": "stdout",
     "output_type": "stream",
     "text": [
      "Mean: 5.5\n",
      "Median: 5.5\n",
      "Standard deviation: 2.345207879911715\n"
     ]
    }
   ],
   "source": [
    "import numpy as np\n",
    "nparr = np.array([1,2,3,4,5,6,7,8,9,10])\n",
    "\n",
    "def mean(arr):\n",
    "    sum = 0\n",
    "    for i in arr:\n",
    "        sum += i\n",
    "    return sum/len(arr)\n",
    "\n",
    "def median(arr):\n",
    "    n = len(arr)\n",
    "    med = 0\n",
    "    if n%2==0:\n",
    "        i = int(n/2)\n",
    "        med = (arr[i]+arr[i-1])/2\n",
    "    else:\n",
    "        med = arr[((n+1/2)-1)/2]\n",
    "    return med\n",
    "\n",
    "def sd(arr):\n",
    "    return np.sqrt(mean(arr))\n",
    "\n",
    "print('Mean:',mean(nparr))\n",
    "print('Median:',median(nparr))\n",
    "print('Standard deviation:',sd(nparr))"
   ]
  },
  {
   "cell_type": "markdown",
   "id": "adcbc689",
   "metadata": {},
   "source": [
    "### 4. Create a program that multiplies each element of a NumPy array by a specified factor."
   ]
  },
  {
   "cell_type": "code",
   "execution_count": 18,
   "id": "89ecbfae",
   "metadata": {},
   "outputs": [
    {
     "name": "stdout",
     "output_type": "stream",
     "text": [
      "Enter the number to multiply with NumPy array: 4\n",
      "[ 1  2  3  4  5  6  7  8  9 10] X 4 =\n",
      "[ 4  8 12 16 20 24 28 32 36 40]\n"
     ]
    }
   ],
   "source": [
    "import numpy as np\n",
    "nparr = np.array([1,2,3,4,5,6,7,8,9,10])\n",
    "n = int(input('Enter the number to multiply with NumPy array: '))\n",
    "print(nparr,\"X\",n,'=')\n",
    "\n",
    "for i in range(0,len(nparr)):\n",
    "    nparr[i] *= n\n",
    "    \n",
    "print(nparr)"
   ]
  },
  {
   "cell_type": "markdown",
   "id": "c4f4df6f",
   "metadata": {},
   "source": [
    "### 5. Write a program to find the index of the maximum value in a NumPy array."
   ]
  },
  {
   "cell_type": "code",
   "execution_count": 19,
   "id": "0a728d56",
   "metadata": {},
   "outputs": [
    {
     "name": "stdout",
     "output_type": "stream",
     "text": [
      "Maximum value : 10\n"
     ]
    }
   ],
   "source": [
    "import numpy as np\n",
    "nparr = np.array([1,7,6,2,3,9,8,4,10,5])\n",
    "\n",
    "maxval = nparr[0]\n",
    "for i in nparr:\n",
    "    if i>maxval:\n",
    "        maxval = i\n",
    "\n",
    "print('Maximum value :',maxval)"
   ]
  },
  {
   "cell_type": "markdown",
   "id": "9a14afd1",
   "metadata": {},
   "source": [
    "### 6. Implement a function that returns the dot product of two NumPy arrays."
   ]
  },
  {
   "cell_type": "code",
   "execution_count": 120,
   "id": "58a1c487",
   "metadata": {},
   "outputs": [
    {
     "name": "stdout",
     "output_type": "stream",
     "text": [
      "Dot Product: 32\n"
     ]
    }
   ],
   "source": [
    "import numpy as np\n",
    "\n",
    "arr1 = np.array([1, 2, 3])\n",
    "arr2 = np.array([4, 5, 6])\n",
    "print(\"Dot Product:\", arr1 @ arr2)"
   ]
  },
  {
   "cell_type": "markdown",
   "id": "952b8abc",
   "metadata": {},
   "source": [
    "### 7. Create a program that reshapes a 1D NumPy array into a 2D array."
   ]
  },
  {
   "cell_type": "code",
   "execution_count": 123,
   "id": "838c81a2",
   "metadata": {},
   "outputs": [
    {
     "name": "stdout",
     "output_type": "stream",
     "text": [
      "1D Array: [1 2 3 4 5 6]\n",
      "2D Array: [[1 2 3]\n",
      " [4 5 6]]\n"
     ]
    }
   ],
   "source": [
    "import numpy as np\n",
    "\n",
    "arr1 = np.array([1, 2, 3, 4, 5, 6])\n",
    "arr2 = arr1.reshape(2, 3)\n",
    "\n",
    "print(\"1D Array:\", arr1)\n",
    "print(\"2D Array:\", arr2)"
   ]
  },
  {
   "cell_type": "markdown",
   "id": "cfe24b8a",
   "metadata": {},
   "source": [
    "### 8. Write a program that finds the unique elements and their counts in a NumPy array."
   ]
  },
  {
   "cell_type": "code",
   "execution_count": 20,
   "id": "6a20e038",
   "metadata": {},
   "outputs": [
    {
     "name": "stdout",
     "output_type": "stream",
     "text": [
      "{'p': 1, 'y': 1, 't': 1, 'h': 1, 'o': 4, 'n': 3, '': 5, 'i': 2, 's': 1, 'a': 3, 'g': 4, 'd': 2, 'c': 1, 'l': 1, 'u': 1, 'e': 1}\n"
     ]
    }
   ],
   "source": [
    "import numpy as np\n",
    "nparr = np.array(['p','y','t','h','o','n','','i','s','','a','','g','o','o','d','','c','o','d','i','n','g','','l','a','n','g','u','a','g','e'])\n",
    "\n",
    "def finduniq(arr):\n",
    "    narr = {}\n",
    "    for elem in arr:\n",
    "        if elem not in narr:\n",
    "            narr[elem] = 1\n",
    "        else:\n",
    "            narr[elem] += 1\n",
    "    return narr\n",
    "    \n",
    "print(finduniq(nparr))"
   ]
  },
  {
   "cell_type": "markdown",
   "id": "4f314853",
   "metadata": {},
   "source": [
    "### 9. Implement a function that returns a specified row or column from a 2D NumPy array."
   ]
  },
  {
   "cell_type": "code",
   "execution_count": 21,
   "id": "2e0b321c",
   "metadata": {},
   "outputs": [
    {
     "name": "stdout",
     "output_type": "stream",
     "text": [
      "select Row(R) or Col(C): C\n",
      "Enter col to be selected: 1\n",
      "2\n",
      "5\n",
      "8\n"
     ]
    }
   ],
   "source": [
    "import numpy as np\n",
    "nparr = np.array([[1,2,3],[4,5,6],[7,8,9]])\n",
    "\n",
    "sel = input('select Row(R) or Col(C): ')\n",
    "if sel == 'R':\n",
    "    r = int(input('Enter row to be selected: '))\n",
    "    print(nparr[r])\n",
    "elif sel =='C':\n",
    "    c = int(input('Enter col to be selected: '))\n",
    "    for i in range(0,len(nparr)):\n",
    "        print(nparr[i][c])"
   ]
  },
  {
   "cell_type": "markdown",
   "id": "0ad85090",
   "metadata": {},
   "source": [
    "### 10. Create a program that performs matrix multiplication using NumPy arrays."
   ]
  },
  {
   "cell_type": "code",
   "execution_count": 22,
   "id": "e894e41e",
   "metadata": {},
   "outputs": [
    {
     "name": "stdout",
     "output_type": "stream",
     "text": [
      "[[ 30.  36.  42.]\n",
      " [ 66.  81.  96.]\n",
      " [102. 126. 150.]]\n"
     ]
    }
   ],
   "source": [
    "import numpy as np\n",
    "nparr1 = np.array([[1,2,3],[4,5,6],[7,8,9]])\n",
    "nparr2 = np.array([[1,2,3],[4,5,6],[7,8,9]])\n",
    "\n",
    "def multi(arr1,arr2):\n",
    "    mul = np.zeros((arr1.shape[0], arr2.shape[1]))\n",
    "    if arr1.shape[0] == arr2.shape[1]:\n",
    "        for i in range(0,arr1.shape[0]):\n",
    "            for j in range(0,arr2.shape[1]):\n",
    "                for k in range(0,arr2.shape[1]):\n",
    "                    mul[i][j] += arr1[i][k] * arr2[k][j]\n",
    "    return mul\n",
    "\n",
    "print(multi(nparr1,nparr2))"
   ]
  },
  {
   "cell_type": "markdown",
   "id": "ddef284d",
   "metadata": {},
   "source": [
    "# \n",
    "# Pandas:\n",
    "### 1. Load a CSV file into a Pandas DataFrame and display the first few rows."
   ]
  },
  {
   "cell_type": "code",
   "execution_count": 23,
   "id": "416de2bd",
   "metadata": {},
   "outputs": [
    {
     "data": {
      "text/html": [
       "<div>\n",
       "<style scoped>\n",
       "    .dataframe tbody tr th:only-of-type {\n",
       "        vertical-align: middle;\n",
       "    }\n",
       "\n",
       "    .dataframe tbody tr th {\n",
       "        vertical-align: top;\n",
       "    }\n",
       "\n",
       "    .dataframe thead th {\n",
       "        text-align: right;\n",
       "    }\n",
       "</style>\n",
       "<table border=\"1\" class=\"dataframe\">\n",
       "  <thead>\n",
       "    <tr style=\"text-align: right;\">\n",
       "      <th></th>\n",
       "      <th>Sky</th>\n",
       "      <th>AirTemp</th>\n",
       "      <th>Humidity</th>\n",
       "      <th>Wind</th>\n",
       "      <th>Water</th>\n",
       "      <th>Forecast</th>\n",
       "      <th>EnjoySport</th>\n",
       "    </tr>\n",
       "  </thead>\n",
       "  <tbody>\n",
       "    <tr>\n",
       "      <th>0</th>\n",
       "      <td>Sunny</td>\n",
       "      <td>Warm</td>\n",
       "      <td>Normal</td>\n",
       "      <td>Strong</td>\n",
       "      <td>Warm</td>\n",
       "      <td>Same</td>\n",
       "      <td>yes</td>\n",
       "    </tr>\n",
       "    <tr>\n",
       "      <th>1</th>\n",
       "      <td>Sunny</td>\n",
       "      <td>Warm</td>\n",
       "      <td>High</td>\n",
       "      <td>Strong</td>\n",
       "      <td>Warm</td>\n",
       "      <td>Same</td>\n",
       "      <td>yes</td>\n",
       "    </tr>\n",
       "  </tbody>\n",
       "</table>\n",
       "</div>"
      ],
      "text/plain": [
       "     Sky AirTemp Humidity    Wind Water Forecast EnjoySport\n",
       "0  Sunny    Warm   Normal  Strong  Warm     Same        yes\n",
       "1  Sunny    Warm     High  Strong  Warm     Same        yes"
      ]
     },
     "execution_count": 23,
     "metadata": {},
     "output_type": "execute_result"
    }
   ],
   "source": [
    "import pandas as pd\n",
    "\n",
    "df = pd.read_csv('ENJOYSPORT.csv')\n",
    "df.head(2)"
   ]
  },
  {
   "cell_type": "markdown",
   "id": "53c3a629",
   "metadata": {},
   "source": [
    "### 2. Write a program that selects a specific column from a Pandas DataFrame."
   ]
  },
  {
   "cell_type": "code",
   "execution_count": 24,
   "id": "0aeff964",
   "metadata": {},
   "outputs": [
    {
     "name": "stdout",
     "output_type": "stream",
     "text": [
      "     Sky AirTemp Humidity    Wind Water Forecast EnjoySport\n",
      "0  Sunny    Warm   Normal  Strong  Warm     Same        yes\n",
      "1  Sunny    Warm     High  Strong  Warm     Same        yes\n",
      "2  Rainy    Cold     High  Strong  Warm   Change         no\n",
      "3  Sunny    Warm     High  Strong  Cool   Change        yes\n"
     ]
    },
    {
     "data": {
      "text/plain": [
       "0    Warm\n",
       "1    Warm\n",
       "2    Warm\n",
       "3    Cool\n",
       "Name: Water, dtype: object"
      ]
     },
     "execution_count": 24,
     "metadata": {},
     "output_type": "execute_result"
    }
   ],
   "source": [
    "import pandas as pd\n",
    "\n",
    "df = pd.read_csv('ENJOYSPORT.csv')\n",
    "print(df)\n",
    "df.Water"
   ]
  },
  {
   "cell_type": "markdown",
   "id": "90b66ed6",
   "metadata": {},
   "source": [
    "### 3. Implement a function that calculates the mean and median of a column in a DataFrame."
   ]
  },
  {
   "cell_type": "code",
   "execution_count": 25,
   "id": "27ae266c",
   "metadata": {},
   "outputs": [
    {
     "name": "stdout",
     "output_type": "stream",
     "text": [
      "     sepal_length  sepal_width  petal_length  petal_width         species\n",
      "0             5.1          3.5           1.4          0.2     Iris-setosa\n",
      "1             4.9          3.0           1.4          0.2     Iris-setosa\n",
      "2             4.7          3.2           1.3          0.2     Iris-setosa\n",
      "3             4.6          3.1           1.5          0.2     Iris-setosa\n",
      "4             5.0          3.6           1.4          0.2     Iris-setosa\n",
      "..            ...          ...           ...          ...             ...\n",
      "145           6.7          3.0           5.2          2.3  Iris-virginica\n",
      "146           6.3          2.5           5.0          1.9  Iris-virginica\n",
      "147           6.5          3.0           5.2          2.0  Iris-virginica\n",
      "148           6.2          3.4           5.4          2.3  Iris-virginica\n",
      "149           5.9          3.0           5.1          1.8  Iris-virginica\n",
      "\n",
      "[150 rows x 5 columns]\n",
      "Mean of petal_length: 3.7586666666666693\n",
      "Median of petal_length: 4.35\n"
     ]
    }
   ],
   "source": [
    "import pandas as pd\n",
    "\n",
    "df = pd.read_csv('IRIS.csv')\n",
    "print(df)\n",
    "print('Mean of petal_length:',df.petal_length.mean())\n",
    "print('Median of petal_length:',df.petal_length.median())"
   ]
  },
  {
   "cell_type": "markdown",
   "id": "d00fcad3",
   "metadata": {},
   "source": [
    "### 4. Create a program that filters rows in a DataFrame based on a certain condition."
   ]
  },
  {
   "cell_type": "code",
   "execution_count": 82,
   "id": "c13104a9",
   "metadata": {},
   "outputs": [
    {
     "data": {
      "text/html": [
       "<div>\n",
       "<style scoped>\n",
       "    .dataframe tbody tr th:only-of-type {\n",
       "        vertical-align: middle;\n",
       "    }\n",
       "\n",
       "    .dataframe tbody tr th {\n",
       "        vertical-align: top;\n",
       "    }\n",
       "\n",
       "    .dataframe thead th {\n",
       "        text-align: right;\n",
       "    }\n",
       "</style>\n",
       "<table border=\"1\" class=\"dataframe\">\n",
       "  <thead>\n",
       "    <tr style=\"text-align: right;\">\n",
       "      <th></th>\n",
       "      <th>sepal_length</th>\n",
       "      <th>sepal_width</th>\n",
       "      <th>petal_length</th>\n",
       "      <th>petal_width</th>\n",
       "      <th>species</th>\n",
       "    </tr>\n",
       "  </thead>\n",
       "  <tbody>\n",
       "    <tr>\n",
       "      <th>50</th>\n",
       "      <td>7.0</td>\n",
       "      <td>3.2</td>\n",
       "      <td>4.7</td>\n",
       "      <td>1.4</td>\n",
       "      <td>Iris-versicolor</td>\n",
       "    </tr>\n",
       "    <tr>\n",
       "      <th>51</th>\n",
       "      <td>6.4</td>\n",
       "      <td>3.2</td>\n",
       "      <td>4.5</td>\n",
       "      <td>1.5</td>\n",
       "      <td>Iris-versicolor</td>\n",
       "    </tr>\n",
       "    <tr>\n",
       "      <th>52</th>\n",
       "      <td>6.9</td>\n",
       "      <td>3.1</td>\n",
       "      <td>4.9</td>\n",
       "      <td>1.5</td>\n",
       "      <td>Iris-versicolor</td>\n",
       "    </tr>\n",
       "    <tr>\n",
       "      <th>53</th>\n",
       "      <td>5.5</td>\n",
       "      <td>2.3</td>\n",
       "      <td>4.0</td>\n",
       "      <td>1.3</td>\n",
       "      <td>Iris-versicolor</td>\n",
       "    </tr>\n",
       "    <tr>\n",
       "      <th>54</th>\n",
       "      <td>6.5</td>\n",
       "      <td>2.8</td>\n",
       "      <td>4.6</td>\n",
       "      <td>1.5</td>\n",
       "      <td>Iris-versicolor</td>\n",
       "    </tr>\n",
       "    <tr>\n",
       "      <th>...</th>\n",
       "      <td>...</td>\n",
       "      <td>...</td>\n",
       "      <td>...</td>\n",
       "      <td>...</td>\n",
       "      <td>...</td>\n",
       "    </tr>\n",
       "    <tr>\n",
       "      <th>145</th>\n",
       "      <td>6.7</td>\n",
       "      <td>3.0</td>\n",
       "      <td>5.2</td>\n",
       "      <td>2.3</td>\n",
       "      <td>Iris-virginica</td>\n",
       "    </tr>\n",
       "    <tr>\n",
       "      <th>146</th>\n",
       "      <td>6.3</td>\n",
       "      <td>2.5</td>\n",
       "      <td>5.0</td>\n",
       "      <td>1.9</td>\n",
       "      <td>Iris-virginica</td>\n",
       "    </tr>\n",
       "    <tr>\n",
       "      <th>147</th>\n",
       "      <td>6.5</td>\n",
       "      <td>3.0</td>\n",
       "      <td>5.2</td>\n",
       "      <td>2.0</td>\n",
       "      <td>Iris-virginica</td>\n",
       "    </tr>\n",
       "    <tr>\n",
       "      <th>148</th>\n",
       "      <td>6.2</td>\n",
       "      <td>3.4</td>\n",
       "      <td>5.4</td>\n",
       "      <td>2.3</td>\n",
       "      <td>Iris-virginica</td>\n",
       "    </tr>\n",
       "    <tr>\n",
       "      <th>149</th>\n",
       "      <td>5.9</td>\n",
       "      <td>3.0</td>\n",
       "      <td>5.1</td>\n",
       "      <td>1.8</td>\n",
       "      <td>Iris-virginica</td>\n",
       "    </tr>\n",
       "  </tbody>\n",
       "</table>\n",
       "<p>93 rows × 5 columns</p>\n",
       "</div>"
      ],
      "text/plain": [
       "     sepal_length  sepal_width  petal_length  petal_width          species\n",
       "50            7.0          3.2           4.7          1.4  Iris-versicolor\n",
       "51            6.4          3.2           4.5          1.5  Iris-versicolor\n",
       "52            6.9          3.1           4.9          1.5  Iris-versicolor\n",
       "53            5.5          2.3           4.0          1.3  Iris-versicolor\n",
       "54            6.5          2.8           4.6          1.5  Iris-versicolor\n",
       "..            ...          ...           ...          ...              ...\n",
       "145           6.7          3.0           5.2          2.3   Iris-virginica\n",
       "146           6.3          2.5           5.0          1.9   Iris-virginica\n",
       "147           6.5          3.0           5.2          2.0   Iris-virginica\n",
       "148           6.2          3.4           5.4          2.3   Iris-virginica\n",
       "149           5.9          3.0           5.1          1.8   Iris-virginica\n",
       "\n",
       "[93 rows x 5 columns]"
      ]
     },
     "execution_count": 82,
     "metadata": {},
     "output_type": "execute_result"
    }
   ],
   "source": [
    "import pandas as pd\n",
    "\n",
    "df = pd.read_csv('IRIS.csv')\n",
    "filtered_df = df[df['petal_width'] > 1] \n",
    "filtered_df"
   ]
  },
  {
   "cell_type": "markdown",
   "id": "a78a6b2c",
   "metadata": {},
   "source": [
    "### 5. Write a program that groups a DataFrame by a specific column and calculates the sum of another column."
   ]
  },
  {
   "cell_type": "code",
   "execution_count": 84,
   "id": "621d1bc0",
   "metadata": {},
   "outputs": [
    {
     "data": {
      "text/plain": [
       "species\n",
       "Iris-setosa         73.2\n",
       "Iris-versicolor    213.0\n",
       "Iris-virginica     277.6\n",
       "Name: petal_length, dtype: float64"
      ]
     },
     "execution_count": 84,
     "metadata": {},
     "output_type": "execute_result"
    }
   ],
   "source": [
    "import pandas as pd\n",
    "\n",
    "df = pd.read_csv('IRIS.csv')\n",
    "df.groupby('species')['petal_length'].sum()"
   ]
  },
  {
   "cell_type": "markdown",
   "id": "973c0735",
   "metadata": {},
   "source": [
    "### 6. Implement a function that sorts a DataFrame based on a specified column."
   ]
  },
  {
   "cell_type": "code",
   "execution_count": 85,
   "id": "a169726e",
   "metadata": {},
   "outputs": [
    {
     "data": {
      "text/html": [
       "<div>\n",
       "<style scoped>\n",
       "    .dataframe tbody tr th:only-of-type {\n",
       "        vertical-align: middle;\n",
       "    }\n",
       "\n",
       "    .dataframe tbody tr th {\n",
       "        vertical-align: top;\n",
       "    }\n",
       "\n",
       "    .dataframe thead th {\n",
       "        text-align: right;\n",
       "    }\n",
       "</style>\n",
       "<table border=\"1\" class=\"dataframe\">\n",
       "  <thead>\n",
       "    <tr style=\"text-align: right;\">\n",
       "      <th></th>\n",
       "      <th>sepal_length</th>\n",
       "      <th>sepal_width</th>\n",
       "      <th>petal_length</th>\n",
       "      <th>petal_width</th>\n",
       "      <th>species</th>\n",
       "    </tr>\n",
       "  </thead>\n",
       "  <tbody>\n",
       "    <tr>\n",
       "      <th>32</th>\n",
       "      <td>5.2</td>\n",
       "      <td>4.1</td>\n",
       "      <td>1.5</td>\n",
       "      <td>0.1</td>\n",
       "      <td>Iris-setosa</td>\n",
       "    </tr>\n",
       "    <tr>\n",
       "      <th>13</th>\n",
       "      <td>4.3</td>\n",
       "      <td>3.0</td>\n",
       "      <td>1.1</td>\n",
       "      <td>0.1</td>\n",
       "      <td>Iris-setosa</td>\n",
       "    </tr>\n",
       "    <tr>\n",
       "      <th>37</th>\n",
       "      <td>4.9</td>\n",
       "      <td>3.1</td>\n",
       "      <td>1.5</td>\n",
       "      <td>0.1</td>\n",
       "      <td>Iris-setosa</td>\n",
       "    </tr>\n",
       "    <tr>\n",
       "      <th>9</th>\n",
       "      <td>4.9</td>\n",
       "      <td>3.1</td>\n",
       "      <td>1.5</td>\n",
       "      <td>0.1</td>\n",
       "      <td>Iris-setosa</td>\n",
       "    </tr>\n",
       "    <tr>\n",
       "      <th>12</th>\n",
       "      <td>4.8</td>\n",
       "      <td>3.0</td>\n",
       "      <td>1.4</td>\n",
       "      <td>0.1</td>\n",
       "      <td>Iris-setosa</td>\n",
       "    </tr>\n",
       "    <tr>\n",
       "      <th>...</th>\n",
       "      <td>...</td>\n",
       "      <td>...</td>\n",
       "      <td>...</td>\n",
       "      <td>...</td>\n",
       "      <td>...</td>\n",
       "    </tr>\n",
       "    <tr>\n",
       "      <th>140</th>\n",
       "      <td>6.7</td>\n",
       "      <td>3.1</td>\n",
       "      <td>5.6</td>\n",
       "      <td>2.4</td>\n",
       "      <td>Iris-virginica</td>\n",
       "    </tr>\n",
       "    <tr>\n",
       "      <th>114</th>\n",
       "      <td>5.8</td>\n",
       "      <td>2.8</td>\n",
       "      <td>5.1</td>\n",
       "      <td>2.4</td>\n",
       "      <td>Iris-virginica</td>\n",
       "    </tr>\n",
       "    <tr>\n",
       "      <th>100</th>\n",
       "      <td>6.3</td>\n",
       "      <td>3.3</td>\n",
       "      <td>6.0</td>\n",
       "      <td>2.5</td>\n",
       "      <td>Iris-virginica</td>\n",
       "    </tr>\n",
       "    <tr>\n",
       "      <th>144</th>\n",
       "      <td>6.7</td>\n",
       "      <td>3.3</td>\n",
       "      <td>5.7</td>\n",
       "      <td>2.5</td>\n",
       "      <td>Iris-virginica</td>\n",
       "    </tr>\n",
       "    <tr>\n",
       "      <th>109</th>\n",
       "      <td>7.2</td>\n",
       "      <td>3.6</td>\n",
       "      <td>6.1</td>\n",
       "      <td>2.5</td>\n",
       "      <td>Iris-virginica</td>\n",
       "    </tr>\n",
       "  </tbody>\n",
       "</table>\n",
       "<p>150 rows × 5 columns</p>\n",
       "</div>"
      ],
      "text/plain": [
       "     sepal_length  sepal_width  petal_length  petal_width         species\n",
       "32            5.2          4.1           1.5          0.1     Iris-setosa\n",
       "13            4.3          3.0           1.1          0.1     Iris-setosa\n",
       "37            4.9          3.1           1.5          0.1     Iris-setosa\n",
       "9             4.9          3.1           1.5          0.1     Iris-setosa\n",
       "12            4.8          3.0           1.4          0.1     Iris-setosa\n",
       "..            ...          ...           ...          ...             ...\n",
       "140           6.7          3.1           5.6          2.4  Iris-virginica\n",
       "114           5.8          2.8           5.1          2.4  Iris-virginica\n",
       "100           6.3          3.3           6.0          2.5  Iris-virginica\n",
       "144           6.7          3.3           5.7          2.5  Iris-virginica\n",
       "109           7.2          3.6           6.1          2.5  Iris-virginica\n",
       "\n",
       "[150 rows x 5 columns]"
      ]
     },
     "execution_count": 85,
     "metadata": {},
     "output_type": "execute_result"
    }
   ],
   "source": [
    "import pandas as pd\n",
    "\n",
    "df = pd.read_csv('IRIS.csv')\n",
    "df.sort_values(by='petal_width')"
   ]
  },
  {
   "cell_type": "markdown",
   "id": "540b807e",
   "metadata": {},
   "source": [
    "### 7. Create a program that merges two DataFrames based on a common column."
   ]
  },
  {
   "cell_type": "code",
   "execution_count": 101,
   "id": "9bbe15a4",
   "metadata": {},
   "outputs": [
    {
     "data": {
      "text/html": [
       "<div>\n",
       "<style scoped>\n",
       "    .dataframe tbody tr th:only-of-type {\n",
       "        vertical-align: middle;\n",
       "    }\n",
       "\n",
       "    .dataframe tbody tr th {\n",
       "        vertical-align: top;\n",
       "    }\n",
       "\n",
       "    .dataframe thead th {\n",
       "        text-align: right;\n",
       "    }\n",
       "</style>\n",
       "<table border=\"1\" class=\"dataframe\">\n",
       "  <thead>\n",
       "    <tr style=\"text-align: right;\">\n",
       "      <th></th>\n",
       "      <th>ID</th>\n",
       "      <th>Name</th>\n",
       "      <th>Age</th>\n",
       "    </tr>\n",
       "  </thead>\n",
       "  <tbody>\n",
       "    <tr>\n",
       "      <th>0</th>\n",
       "      <td>2</td>\n",
       "      <td>B</td>\n",
       "      <td>25</td>\n",
       "    </tr>\n",
       "    <tr>\n",
       "      <th>1</th>\n",
       "      <td>3</td>\n",
       "      <td>C</td>\n",
       "      <td>30</td>\n",
       "    </tr>\n",
       "    <tr>\n",
       "      <th>2</th>\n",
       "      <td>4</td>\n",
       "      <td>D</td>\n",
       "      <td>22</td>\n",
       "    </tr>\n",
       "  </tbody>\n",
       "</table>\n",
       "</div>"
      ],
      "text/plain": [
       "   ID Name  Age\n",
       "0   2    B   25\n",
       "1   3    C   30\n",
       "2   4    D   22"
      ]
     },
     "execution_count": 101,
     "metadata": {},
     "output_type": "execute_result"
    }
   ],
   "source": [
    "import pandas as pd\n",
    "\n",
    "data1 = {'ID': [1, 2, 3, 4], 'Name': ['A', 'B', 'C', 'D']}\n",
    "data2 = {'ID': [2, 3, 4, 5], 'Age': [25, 30, 22, 28]}\n",
    "df1 = pd.DataFrame(data1)\n",
    "df2 = pd.DataFrame(data2)\n",
    "\n",
    "merged_df = pd.merge(df1, df2, on='ID')\n",
    "merged_df"
   ]
  },
  {
   "cell_type": "markdown",
   "id": "fa745ec3",
   "metadata": {},
   "source": [
    "### 8. Write a program that fills missing values in a DataFrame with a specified value."
   ]
  },
  {
   "cell_type": "code",
   "execution_count": 106,
   "id": "e4e1ca2f",
   "metadata": {},
   "outputs": [
    {
     "data": {
      "text/html": [
       "<div>\n",
       "<style scoped>\n",
       "    .dataframe tbody tr th:only-of-type {\n",
       "        vertical-align: middle;\n",
       "    }\n",
       "\n",
       "    .dataframe tbody tr th {\n",
       "        vertical-align: top;\n",
       "    }\n",
       "\n",
       "    .dataframe thead th {\n",
       "        text-align: right;\n",
       "    }\n",
       "</style>\n",
       "<table border=\"1\" class=\"dataframe\">\n",
       "  <thead>\n",
       "    <tr style=\"text-align: right;\">\n",
       "      <th></th>\n",
       "      <th>A</th>\n",
       "      <th>B</th>\n",
       "      <th>C</th>\n",
       "    </tr>\n",
       "  </thead>\n",
       "  <tbody>\n",
       "    <tr>\n",
       "      <th>0</th>\n",
       "      <td>1.0</td>\n",
       "      <td>-1.0</td>\n",
       "      <td>1.0</td>\n",
       "    </tr>\n",
       "    <tr>\n",
       "      <th>1</th>\n",
       "      <td>2.0</td>\n",
       "      <td>2.0</td>\n",
       "      <td>-1.0</td>\n",
       "    </tr>\n",
       "    <tr>\n",
       "      <th>2</th>\n",
       "      <td>-1.0</td>\n",
       "      <td>3.0</td>\n",
       "      <td>-1.0</td>\n",
       "    </tr>\n",
       "    <tr>\n",
       "      <th>3</th>\n",
       "      <td>4.0</td>\n",
       "      <td>-1.0</td>\n",
       "      <td>4.0</td>\n",
       "    </tr>\n",
       "    <tr>\n",
       "      <th>4</th>\n",
       "      <td>5.0</td>\n",
       "      <td>5.0</td>\n",
       "      <td>5.0</td>\n",
       "    </tr>\n",
       "  </tbody>\n",
       "</table>\n",
       "</div>"
      ],
      "text/plain": [
       "     A    B    C\n",
       "0  1.0 -1.0  1.0\n",
       "1  2.0  2.0 -1.0\n",
       "2 -1.0  3.0 -1.0\n",
       "3  4.0 -1.0  4.0\n",
       "4  5.0  5.0  5.0"
      ]
     },
     "execution_count": 106,
     "metadata": {},
     "output_type": "execute_result"
    }
   ],
   "source": [
    "import pandas as pd\n",
    "import numpy as np\n",
    "\n",
    "data = {'A': [1, 2, np.nan, 4, 5],\n",
    "        'B': [np.nan, 2, 3, np.nan, 5],\n",
    "        'C': [1, np.nan, np.nan, 4, 5]}\n",
    "\n",
    "df = pd.DataFrame(data)\n",
    "fill_value = -1\n",
    "\n",
    "filled_df = df.fillna(fill_value)\n",
    "filled_df"
   ]
  },
  {
   "cell_type": "markdown",
   "id": "966c18dd",
   "metadata": {},
   "source": [
    "### 9. Implement a function that calculates the correlation between two columns in a DataFrame."
   ]
  },
  {
   "cell_type": "code",
   "execution_count": 118,
   "id": "8367bb2f",
   "metadata": {},
   "outputs": [
    {
     "name": "stdout",
     "output_type": "stream",
     "text": [
      "Correlation between , A , and  B : -1.0\n"
     ]
    }
   ],
   "source": [
    "import pandas as pd\n",
    "\n",
    "def calculate_correlation(data_frame, column1, column2):\n",
    "    correlation = data_frame[column1].corr(data_frame[column2])\n",
    "    return correlation\n",
    "\n",
    "data = {'A': [1, 2, 3, 4, 5, 6, 7],\n",
    "        'B': [7, 6, 5, 4, 3, 2, 1]}\n",
    "df = pd.DataFrame(data)\n",
    "\n",
    "correlation_value = calculate_correlation(df, 'A', 'B')\n",
    "\n",
    "print('Correlation between ,','A',', and ','B',':',correlation_value)"
   ]
  },
  {
   "cell_type": "markdown",
   "id": "f783acca",
   "metadata": {},
   "source": [
    "### 10. Create a program that visualizes data from a DataFrame using a scatter plot."
   ]
  },
  {
   "cell_type": "code",
   "execution_count": 108,
   "id": "9e5b4c87",
   "metadata": {},
   "outputs": [
    {
     "data": {
      "image/png": "[encoded data removed]",
      "text/plain": [
       "<Figure size 432x288 with 1 Axes>"
      ]
     },
     "metadata": {
      "needs_background": "light"
     },
     "output_type": "display_data"
    }
   ],
   "source": [
    "import matplotlib.pyplot as plt\n",
    "import pandas as pd\n",
    "df = pd.read_csv('IRIS.csv')\n",
    "\n",
    "plt.scatter(df.sepal_width, df.sepal_length)\n",
    "plt.xlabel('Width')\n",
    "plt.ylabel('Length')\n",
    "plt.title('Scatter Plot of Sepal')\n",
    "\n",
    "plt.show()"
   ]
  },
  {
   "cell_type": "markdown",
   "id": "c21349fd",
   "metadata": {},
   "source": [
    "# \n",
    "# Matplotlib (Scatter, Bar, Pie):\n",
    "### 1. Write a program to create a scatter plot of random data points."
   ]
  },
  {
   "cell_type": "code",
   "execution_count": 35,
   "id": "f57cebf4",
   "metadata": {},
   "outputs": [
    {
     "data": {
      "image/png": "[encoded data removed]",
      "text/plain": [
       "<Figure size 432x288 with 1 Axes>"
      ]
     },
     "metadata": {
      "needs_background": "light"
     },
     "output_type": "display_data"
    }
   ],
   "source": [
    "import numpy as np\n",
    "import matplotlib.pyplot as plt\n",
    "\n",
    "# import pandas as pd\n",
    "# df = pd.read_csv('IRIS.csv')\n",
    "# x_values = df.sepal_length\n",
    "# y_values = df.petal_length\n",
    "\n",
    "x_values = np.random.rand(100)\n",
    "y_values = np.random.rand(100)\n",
    "\n",
    "plt.scatter(x_values, y_values)\n",
    "plt.xlabel('X-axis')\n",
    "plt.ylabel('Y-axis')\n",
    "plt.title('Scatter Plot of Random Data')\n",
    "\n",
    "plt.show()"
   ]
  },
  {
   "cell_type": "markdown",
   "id": "991b1db7",
   "metadata": {},
   "source": [
    "### 2. Create a bar chart that shows the sales of different products over a month."
   ]
  },
  {
   "cell_type": "code",
   "execution_count": 28,
   "id": "e78ca9b9",
   "metadata": {},
   "outputs": [
    {
     "data": {
      "image/png": "[encoded data removed]",
      "text/plain": [
       "<Figure size 432x288 with 1 Axes>"
      ]
     },
     "metadata": {
      "needs_background": "light"
     },
     "output_type": "display_data"
    }
   ],
   "source": [
    "import matplotlib.pyplot as plt\n",
    "\n",
    "products = ['Product A', 'Product B', 'Product C']\n",
    "sales = [1150, 2050, 1400]\n",
    "\n",
    "plt.bar(products, sales)\n",
    "plt.xlabel('Products')\n",
    "plt.ylabel('Sales')\n",
    "plt.title('Product Sales Over a Month')\n",
    "plt.show()"
   ]
  },
  {
   "cell_type": "markdown",
   "id": "cef6f1b0",
   "metadata": {},
   "source": [
    "### 3. Implement a program that creates a pie chart representing the distribution of grades in a class."
   ]
  },
  {
   "cell_type": "code",
   "execution_count": 60,
   "id": "47860cbf",
   "metadata": {},
   "outputs": [
    {
     "data": {
      "image/png": "[encoded data removed]",
      "text/plain": [
       "<Figure size 432x288 with 1 Axes>"
      ]
     },
     "metadata": {},
     "output_type": "display_data"
    }
   ],
   "source": [
    "import matplotlib.pyplot as plt\n",
    "\n",
    "grades = ['A', 'B', 'C', 'D', 'E', 'F']\n",
    "scales = [10, 5, 15, 7, 8, 2]\n",
    "\n",
    "plt.pie(scales,labels = grades, autopct='%1.1f%%')\n",
    "plt.title('Distribution of Grades')\n",
    "plt.show()"
   ]
  },
  {
   "cell_type": "markdown",
   "id": "33ffb069",
   "metadata": {},
   "source": [
    "### 4. Write a program that combines bar and line plots to visualize sales and profits over time."
   ]
  },
  {
   "cell_type": "code",
   "execution_count": 47,
   "id": "49550da2",
   "metadata": {},
   "outputs": [
    {
     "data": {
      "image/png": "[encoded data removed]",
      "text/plain": [
       "<Figure size 432x288 with 2 Axes>"
      ]
     },
     "metadata": {
      "needs_background": "light"
     },
     "output_type": "display_data"
    }
   ],
   "source": [
    "import matplotlib.pyplot as plt\n",
    "months = ['Jan', 'Feb', 'Mar', 'Apr', 'May']\n",
    "sales = [5400,6420,6610,1200,6620]\n",
    "profits = [340,415,502,51,482]\n",
    "\n",
    "fig, ax1 = plt.subplots()\n",
    "\n",
    "ax1.bar(months, sales, color ='blue', label='Sales')\n",
    "ax1.set_xlabel('Months')\n",
    "ax1.set_ylabel('Sales', color='blue')\n",
    "ax1.tick_params(axis='y', labelcolor='blue')\n",
    "\n",
    "ax2 = ax1.twinx()\n",
    "ax2.plot(months, profits, color='red', label='Profits')\n",
    "ax2.set_ylabel('Profits', color='red')\n",
    "ax2.tick_params(axis='y', labelcolor='red')\n",
    "\n",
    "plt.title('Sales and Profits Over Time')\n",
    "plt.show()"
   ]
  },
  {
   "cell_type": "markdown",
   "id": "c184a9e8",
   "metadata": {},
   "source": [
    "### 5. Create a program that compares the population of different countries using a bar chart."
   ]
  },
  {
   "cell_type": "code",
   "execution_count": 54,
   "id": "2d2fd815",
   "metadata": {},
   "outputs": [
    {
     "data": {
      "image/png": "[encoded data removed]",
      "text/plain": [
       "<Figure size 432x288 with 1 Axes>"
      ]
     },
     "metadata": {
      "needs_background": "light"
     },
     "output_type": "display_data"
    }
   ],
   "source": [
    "import matplotlib.pyplot as plt\n",
    "countries = ['India', 'Pakistan', 'Buthan', 'China', 'Sri Lanka', 'Nepal']\n",
    "populations = [84661485, 55196213, 152403, 81862147, 14236470, 145634]\n",
    "\n",
    "plt.bar(countries, populations)\n",
    "plt.xlabel('Countries')\n",
    "plt.ylabel('Population')\n",
    "plt.title('Population Comparison of Different Countries')\n",
    "plt.show()"
   ]
  },
  {
   "cell_type": "markdown",
   "id": "a04f3eed",
   "metadata": {},
   "source": [
    "### 6. Implement a program that creates a scatter plot with a regression line for a given dataset."
   ]
  },
  {
   "cell_type": "code",
   "execution_count": 58,
   "id": "e929bcfc",
   "metadata": {},
   "outputs": [
    {
     "data": {
      "image/png": "[encoded data removed]",
      "text/plain": [
       "<Figure size 432x288 with 1 Axes>"
      ]
     },
     "metadata": {
      "needs_background": "light"
     },
     "output_type": "display_data"
    }
   ],
   "source": [
    "import matplotlib.pyplot as plt\n",
    "import pandas as pd\n",
    "\n",
    "df = pd.read_csv('IRIS.csv')\n",
    "x = df.sepal_length\n",
    "y = df.petal_length\n",
    "\n",
    "coefficients = np.polyfit(x, y, 1)\n",
    "polynomial = np.poly1d(coefficients)\n",
    "ys = polynomial(x)\n",
    "\n",
    "plt.scatter(x, y, color='blue', marker='o')\n",
    "plt.plot(x, ys, color='r', label='Regression Line')\n",
    "plt.xlabel('X-axis')\n",
    "plt.ylabel('Y-axis')\n",
    "plt.title('Scatter Plot of Random Data')\n",
    "\n",
    "plt.show()"
   ]
  },
  {
   "cell_type": "markdown",
   "id": "c44f2caf",
   "metadata": {},
   "source": [
    "### 7. Write a program that generates a pie chart to display the percentage distribution of expenses in a budget."
   ]
  },
  {
   "cell_type": "code",
   "execution_count": 61,
   "id": "52b51150",
   "metadata": {},
   "outputs": [
    {
     "data": {
      "image/png": "[encoded data removed]",
      "text/plain": [
       "<Figure size 432x288 with 1 Axes>"
      ]
     },
     "metadata": {},
     "output_type": "display_data"
    }
   ],
   "source": [
    "import matplotlib.pyplot as plt\n",
    "expenses = ['Rent', 'Food', 'Transport', 'Entertainment', 'Savings']\n",
    "percentages = [5000, 2000, 1500, 1000, 2500]\n",
    "\n",
    "plt.pie(percentages, labels=expenses, autopct='%1.1f%%')\n",
    "plt.title('Expense Distribution in Budget')\n",
    "plt.show()"
   ]
  },
  {
   "cell_type": "markdown",
   "id": "d3537011",
   "metadata": {},
   "source": [
    "### 8. Create a bar chart that shows the number of students who prefer different subjects."
   ]
  },
  {
   "cell_type": "code",
   "execution_count": 31,
   "id": "4ce90eac",
   "metadata": {},
   "outputs": [
    {
     "data": {
      "image/png": "[encoded data removed]",
      "text/plain": [
       "<Figure size 432x288 with 1 Axes>"
      ]
     },
     "metadata": {
      "needs_background": "light"
     },
     "output_type": "display_data"
    }
   ],
   "source": [
    "import matplotlib.pyplot as plt\n",
    "\n",
    "subjects = ['Artificial Intelligence','Machine Learing','Web Designing']\n",
    "students = [15,20,10]\n",
    "plt.bar(subjects, students)\n",
    "plt.xlabel('Subjects')\n",
    "plt.ylabel('Students')\n",
    "plt.title('Subject Preference by Students')\n",
    "plt.show()"
   ]
  },
  {
   "cell_type": "markdown",
   "id": "bc236e39",
   "metadata": {},
   "source": [
    "### 9. Implement a program that creates a scatter plot matrix for multiple variables."
   ]
  },
  {
   "cell_type": "code",
   "execution_count": 62,
   "id": "1adda4d4",
   "metadata": {},
   "outputs": [
    {
     "data": {
      "image/png": "[encoded data removed]",
      "text/plain": [
       "<Figure size 720x720 with 20 Axes>"
      ]
     },
     "metadata": {
      "needs_background": "light"
     },
     "output_type": "display_data"
    }
   ],
   "source": [
    "import matplotlib.pyplot as plt\n",
    "import seaborn as sns\n",
    "import pandas as pd\n",
    "\n",
    "np.random.seed(0)\n",
    "data = np.random.randn(100, 4)\n",
    "df = pd.DataFrame(data, columns=['Variable 1', 'Variable 2', 'Variable 3', 'Variable 4'])\n",
    "\n",
    "sns.pairplot(df)\n",
    "plt.title('Scatter Plot Matrix')\n",
    "plt.show()"
   ]
  },
  {
   "cell_type": "markdown",
   "id": "da30636a",
   "metadata": {},
   "source": [
    "### 10. Write a program that uses subplots to display multiple bar charts side by side."
   ]
  },
  {
   "cell_type": "code",
   "execution_count": 77,
   "id": "e60815d8",
   "metadata": {},
   "outputs": [
    {
     "data": {
      "image/png": "[encoded data removed]",
      "text/plain": [
       "<Figure size 720x360 with 3 Axes>"
      ]
     },
     "metadata": {
      "needs_background": "light"
     },
     "output_type": "display_data"
    }
   ],
   "source": [
    "import matplotlib.pyplot as plt\n",
    "\n",
    "categories = ['Category A', 'Category B', 'Category C']\n",
    "values1 = [30, 40, 25]\n",
    "values2 = [35, 20, 15]\n",
    "values3 = [40, 30, 20]\n",
    "\n",
    "fig, axs = plt.subplots(1, 3, figsize=(10, 5))\n",
    "\n",
    "axs[0].bar(categories, values1)\n",
    "axs[0].set_title('Chart 1')\n",
    "\n",
    "axs[1].bar(categories, values2)\n",
    "axs[1].set_title('Chart 2')\n",
    "\n",
    "axs[2].bar(categories, values3)\n",
    "axs[2].set_title('Chart 3')\n",
    "\n",
    "plt.tight_layout()\n",
    "plt.show()"
   ]
  },
  {
   "cell_type": "code",
   "execution_count": null,
   "id": "affd1889",
   "metadata": {},
   "outputs": [],
   "source": []
  }
 ],
 "metadata": {
  "kernelspec": {
   "display_name": "Python 3 (ipykernel)",
   "language": "python",
   "name": "python3"
  },
  "language_info": {
   "codemirror_mode": {
    "name": "ipython",
    "version": 3
   },
   "file_extension": ".py",
   "mimetype": "text/x-python",
   "name": "python",
   "nbconvert_exporter": "python",
   "pygments_lexer": "ipython3",
   "version": "3.9.12"
  }
 },
 "nbformat": 4,
 "nbformat_minor": 5
}
